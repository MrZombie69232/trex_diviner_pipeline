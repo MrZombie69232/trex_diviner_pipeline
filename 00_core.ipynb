{
 "cells": [
  {
   "cell_type": "code",
   "execution_count": null,
   "metadata": {},
   "outputs": [],
   "source": [
    "# default_exp core"
   ]
  },
  {
   "cell_type": "markdown",
   "metadata": {},
   "source": [
    "# TREX Diviner Pipeline\n",
    "\n",
    "> API details."
   ]
  },
  {
   "cell_type": "code",
   "execution_count": null,
   "metadata": {},
   "outputs": [],
   "source": [
    "# hide\n",
    "from nbdev.showdoc import *"
   ]
  },
  {
   "cell_type": "code",
   "execution_count": null,
   "metadata": {},
   "outputs": [],
   "source": [
    "# exporti\n",
    "import math\n",
    "from dataclasses import dataclass, field\n",
    "from pathlib import Path, PosixPath\n",
    "from typing import List\n",
    "\n",
    "import heat1d\n",
    "import planets\n",
    "import xarray as xr\n",
    "from heat1d.plotting import plot_last_surface_cooling\n",
    "from scipy.spatial.distance import pdist, squareform"
   ]
  },
  {
   "cell_type": "code",
   "execution_count": null,
   "metadata": {},
   "outputs": [],
   "source": [
    "# export\n",
    "def read_raster_image(fpath, chunk_scale=2):\n",
    "    fpath = Path(fpath)\n",
    "    da = xr.open_rasterio(\n",
    "        fpath, chunks={\"x\": chunk_scale * 2048, \"y\": chunk_scale * 1024}\n",
    "    )\n",
    "    return da\n",
    "\n",
    "def slice_lat(data, lat_limit):\n",
    "    return data.sel(lat=slice(lat_limit, -lat_limit))"
   ]
  },
  {
   "cell_type": "code",
   "execution_count": null,
   "metadata": {},
   "outputs": [],
   "source": [
    "fpath = Path(\"/home/maye/big_drive/planetary_data/diviner/l3_data/dgdr_st_clc_cyl_20090713n_128_jp2.tif\")"
   ]
  },
  {
   "cell_type": "code",
   "execution_count": null,
   "metadata": {},
   "outputs": [],
   "source": [
    "# export\n",
    "def read_cycle_image(fpath, chunk_scale=2):\n",
    "    \"\"\"Read an Diviner map cycle rasterio image into a dask.array.\n",
    "\n",
    "    Using the `chunks` keyword in the open_rasterio method\n",
    "    activates the return of an out-of-memory virtual array instead\n",
    "    of the in-memory xarray.DataArray\n",
    "\n",
    "    fpath: str, pathlib.Path\n",
    "    chunk_scale: int\n",
    "        Scaling the chunck\n",
    "    \"\"\"\n",
    "    fpath = Path(fpath)\n",
    "    da = read_raster_image(fpath)\n",
    "    cycle = int(fpath.name.split(\"_\")[4][:-1])\n",
    "    da = da.assign_coords(band=[cycle])\n",
    "    return da.rename({\"band\": \"time\"})"
   ]
  },
  {
   "cell_type": "code",
   "execution_count": null,
   "metadata": {},
   "outputs": [],
   "source": [
    "# export\n",
    "def read_ltime(fpath, chunk_scale=2):\n",
    "    da = read_image(fpath, chunk_scale)\n",
    "    return da.sel(y=slice(80, -80))\n",
    "\n",
    "\n",
    "def read_images_into_stacked_array(image_paths, name, chunk_scale=2):\n",
    "    arrays = [read_image(p, chunk_scale) for p in image_paths]\n",
    "    stack = xr.concat(arrays, \"time\")\n",
    "    stack.name = name\n",
    "    return stack\n",
    "\n",
    "\n",
    "def get_data_for_pixel(xoff, yoff, ReaderClass, image_paths, name, chunk_scale=1):\n",
    "    stack = read_images_into_stacked_array(image_paths, name, chunk_scale)\n",
    "    pix = stack.isel(x=xoff, y=yoff)\n",
    "    pix = pix.where(pix != -32768)\n",
    "    img = ReaderClass.from_fpath(image_paths[0])\n",
    "    pix = pix * img.SCALING_FACTOR + img.OFFSET\n",
    "    return pix.compute()"
   ]
  },
  {
   "cell_type": "code",
   "execution_count": null,
   "metadata": {},
   "outputs": [],
   "source": []
  }
 ],
 "metadata": {
  "kernelspec": {
   "display_name": "Python [conda env:py37] *",
   "language": "python",
   "name": "conda-env-py37-py"
  }
 },
 "nbformat": 4,
 "nbformat_minor": 4
}
